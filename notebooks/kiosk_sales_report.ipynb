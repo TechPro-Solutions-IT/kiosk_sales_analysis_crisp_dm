{
 "cells": [
  {
   "cell_type": "markdown",
   "id": "d0299089-5dd8-4945-865c-68d58d314e6d",
   "metadata": {},
   "source": [
    "# Kiosk Sales Report\n",
    "\n",
    "## 1. Introduction\n",
    "\n",
    "### Project Context\n",
    "\n",
    "This project aims to analyze sales data from a kiosk that offers various products, such as candies, beverages, cigarettes, and other items. By applying the CRISP-DM methodology, we systematically approach the data analysis process to extract valuable insights that can help increase sales and improve the kiosk’s overall performance.\n",
    "\n",
    "### Process Summary\n",
    "\n",
    "The analysis followed the six phases of CRISP-DM: Business Understanding, Data Understanding, Data Preparation, Modeling, Evaluation, and Deployment. Each phase was crucial to ensure a thorough analysis and results applicable to the business.\n",
    "\n",
    "## 2. Key Results\n",
    "\n",
    "The following visualizations summarize the most significant results of the analysis. These include the distribution of sales by category, sales trends over time, and the performance of predictive models.\n",
    "\n",
    "### 2.1. Distribution of Total Sales\n",
    "\n",
    "The analysis of the distribution of total sales reveals the following observations:\n",
    "\n",
    "* Right-Skewed Distribution: The total sales distribution is asymmetric, with a clear rightward trend. Most total sales are concentrated in low values, indicating that most transactions involve smaller amounts.\n",
    "* High Frequency in Low Sales: The highest volume of sales is found in the range of 0 to 25 units, with the highest frequency around 100 transactions in the lowest interval. This suggests that small sales are common and dominate the distribution.\n",
    "* Gradual Decrease in Higher Sales: As total sales values increase, their frequency gradually decreases. Sales exceeding 100 units are much less frequent, with a marked decline as the sales value increases.\n",
    "* Long Tail Towards Higher Sales: There are some higher sales transactions, though they are much less common. This long tail may be influenced by outliers or unique high-value sales.\n",
    " \n",
    "In summary, the right-skewed distribution and high frequency of small sales suggest that the business primarily consists of lower-value transactions. Identifying strategies to increase the average sale amount could be an opportunity to boost total sales."
   ]
  },
  {
   "cell_type": "markdown",
   "id": "309c6da8-21b4-4447-a6d4-2613baba40be",
   "metadata": {},
   "source": [
    "![Distribution of Total Sales](../graphs/distribution_of_total_sales.png)"
   ]
  },
  {
   "cell_type": "markdown",
   "id": "d9d3f159-358e-43ac-87bf-f77666db6c9d",
   "metadata": {},
   "source": [
    "### 2.2. Total Sales by Category\n",
    "\n",
    "The analysis of total sales by category reveals the following observations:\n",
    "\n",
    "- Dominant Category: The 'Cigarettes' category leads in sales with a total close to 17,500 units. This suggests that cigarettes account for the largest portion of sales volume compared to other categories.\n",
    "- Significant Sales in 'Drinks' and 'Candies': The 'Drinks' and 'Candies' categories show similar performance, with total sales ranging between 15,000 and 16,000 units. This indicates that these categories are also significantly popular among customers.\n",
    "- Lower Performance in 'Others': The 'Others' category has the lowest sales, with a total around 13,000 units. This category seems to have a lesser impact on overall sales compared to the other evaluated categories.\n",
    "\n",
    "In summary, the 'Cigarettes', 'Drinks', and 'Candies' categories stand out as the top sellers, with 'Cigarettes' leading. These results suggest that sales and marketing strategies could be more focused on these categories to maximize revenue."
   ]
  },
  {
   "cell_type": "markdown",
   "id": "925c944c-e27a-423e-abaa-7b66a15e4328",
   "metadata": {},
   "source": [
    "![Total Sales by Category](../graphs/total_sales_by_category.png)"
   ]
  },
  {
   "cell_type": "markdown",
   "id": "d6a8c1f6-57e5-460f-9fd2-ddc74865995c",
   "metadata": {},
   "source": [
    "### 2.3. Sales Trends Over Time\n",
    "\n",
    "The analysis of total sales over time reveals the following key points:\n",
    "\n",
    "- Variability in Daily Sales: Total sales show considerable variability across days, with frequent fluctuations between consecutive days. This indicates an inconsistent sales pattern, which could be influenced by external factors such as promotions, special events, or changes in market demand.\n",
    "- Notable Sales Peaks: Significant sales peaks are observed on 06-28, 07-06, 07-15, and 07-18, with the highest reaching close to 3,000 units on 07-18. These peaks might correspond to periods of high demand or successful promotional activities.\n",
    "- Days with Low Sales: In contrast, the lowest sales are recorded on 07-01, 07-10, and 07-21, with a notable drop on 07-21 where sales fall below 1,000 units. These low sales days could represent opportunities to investigate underlying causes and adjust strategies.\n",
    "- Overall Trend: Despite high variability, there is a slight upward trend in sales from late June to mid-July, suggesting a gradual increase in demand during this period.\n",
    "\n",
    "In summary, the data show high volatility in daily sales with several peaks and troughs. Identifying the factors driving high peaks and sharp declines could be key to optimizing sales strategy and improving performance consistency."
   ]
  },
  {
   "cell_type": "markdown",
   "id": "94154a98-a149-4d06-b179-6bead6cb86d5",
   "metadata": {},
   "source": [
    "![Sales Trends Over Time](../graphs/sales_trends_over_time.png)"
   ]
  },
  {
   "cell_type": "markdown",
   "id": "b96a9ef6-5a21-43c7-8700-c79169c199b3",
   "metadata": {},
   "source": [
    "### 2.4. Correlation Analysis\n",
    "\n",
    "A correlation analysis was performed to evaluate the relationship between different variables in the dataset. The following key results were observed in the correlation matrix:\n",
    "\n",
    "#### 1. Relationship Between Quantity and Other Variables\n",
    "    - Quantity shows a strong positive correlation with Total Sale (0.74) and Taxes (0.68). This indicates that as the quantity sold increases, both total sales and associated taxes tend to rise significantly.\n",
    "    - A moderate positive correlation with Discounts (0.49) is also observed, suggesting that higher quantities sold are related to applied discounts, which could indicate volume discount strategies.\n",
    "\n",
    "#### 2. Relationship Between Unit Price and Other Variables\n",
    "    - Unit Price has a low correlation with Quantity (0.0056), indicating that the unit price does not directly influence the quantity sold.\n",
    "    - However, there is a positive correlation with Total Sale and Taxes, which is expected, as higher unit prices should lead to higher total sales and consequently higher taxes.\n",
    "\n",
    "\n",
    "#### 3. Negative Relationships\n",
    "    - A negative relationship is observed between Remaining Stock and Day (-0.40), which could reflect a trend of decreasing remaining stock as the day progresses or over time.\n",
    "\n",
    "These results provide an overview of how variables are interrelated and can guide decisions on pricing policies, inventory management, and sales strategies."
   ]
  },
  {
   "cell_type": "markdown",
   "id": "d9adc78d-7096-4bbd-9583-4dbee1b3a59e",
   "metadata": {},
   "source": [
    "![Correlation Matrix](../graphs/correlation_matrix.png)"
   ]
  },
  {
   "cell_type": "markdown",
   "id": "07d89ed5-414c-434e-bc76-f8984e7e5bdb",
   "metadata": {},
   "source": [
    "## 3. Model Performance\n",
    "\n",
    "### 3.1. Model Evaluation\n",
    "Several regression models were trained to predict future sales, including Linear Regression, Decision Tree, and Random Forest. Below are the evaluation metrics for each model:"
   ]
  },
  {
   "cell_type": "markdown",
   "id": "817650e6-a860-4ec3-a02c-18ce65bd7b83",
   "metadata": {},
   "source": [
    "![Model Evaluation Metrics Table](../graphs/model_evaluation_metrics_table.png)"
   ]
  },
  {
   "cell_type": "markdown",
   "id": "0729744a-768b-45c9-b7a4-53e949f6f597",
   "metadata": {},
   "source": [
    "### 3.2. Best Model Selection\n",
    "Based on the metrics presented in the table above, the Random Forest model was selected as the best model for sales prediction. This model showed the lowest Mean Absolute Error (MAE) and Mean Squared Error (MSE), as well as the highest R-squared (R2), indicating that it best fits the data and makes the most accurate predictions.\n",
    "\n",
    "Selected Model: Random Forest\n",
    "- MAE: 0.98\n",
    "- MSE: 3.59\n",
    "- R2: 0.998\n",
    "\n",
    "### 3.3. Feature Importance\n",
    "The feature importance analysis reveals that the Quantity and Unit Price variables are the most influential in predicting sales, with significantly greater importance than the other categorical variables. This suggests that sales strategies should focus on optimizing these two factors to maximize predictions and, consequently, sales.\n",
    "\n",
    "- Quantity: 0.56\n",
    "- Unit Price: 0.44\n",
    "- The other categories (Candies, Cigarettes, Others, Drinks) did not show significant influence on the model."
   ]
  },
  {
   "cell_type": "markdown",
   "id": "af3e5dde-5b0f-4a4f-884a-8042beff5c37",
   "metadata": {},
   "source": [
    "![Feature Importances](../graphs/feature_importances.png)"
   ]
  },
  {
   "cell_type": "markdown",
   "id": "61023503-e344-49f7-9cec-626cf4075666",
   "metadata": {},
   "source": [
    "### 3.4. Model Comparison\n",
    "Comparing the performance of the different models trained, it is confirmed that the Random Forest model not only outperforms Linear Regression and Decision Tree in terms of evaluation metrics but also proves to be the most robust, minimizing error and maximizing prediction accuracy.\n",
    "\n",
    "- MSE - Linear Regression: 204.30\n",
    "- MSE - Decision Tree: 5.08\n",
    "- MSE - Random Forest: 3.59\n",
    "\n",
    "### 3.5. Future Sales Prediction\n",
    "With the Random Forest model selected, future sales predictions were made, yielding the following results:\n",
    "\n",
    "- Future Sales Predictions: 16.05, 24.90, 35.79\n",
    " \n",
    "### 3.6. Model Validation\n",
    "To ensure the robustness of the model, additional evaluation was conducted using a test set and cross-validation:\n",
    "\n",
    "#### Test Set Performance:\n",
    "\n",
    "    - MAE: 0.98\n",
    "    - MSE: 3.59\n",
    "    - R2: 0.998\n",
    "\n",
    "#### Cross-Validation:\n",
    "\n",
    "    - Average MSE: 2.51\n",
    "    \n",
    "### 3.7. Residual Analysis\n",
    "The residual analysis showed that the residuals are randomly distributed around zero, indicating that the model does not have systematic errors. However, some outliers were observed, which may require further review to improve the model's performance. This analysis supports the reliability of the Random Forest model for making accurate predictions."
   ]
  },
  {
   "cell_type": "markdown",
   "id": "595be54f-9b35-4ba7-8c4c-2588f132c5d0",
   "metadata": {},
   "source": [
    "![Residual Analysis](../graphs/residual_analysis.png)"
   ]
  },
  {
   "cell_type": "markdown",
   "id": "42e5001d-e9c4-4eac-8053-0dd8e4a3cecc",
   "metadata": {},
   "source": [
    "## 4. Interpretation of Results and Conclusions\n",
    "This section interprets the results obtained from previous analyses and predictive models, extracting key conclusions that will inform strategic decisions.\n",
    "\n",
    "### 4.1. Total Sales and Category Distribution\n",
    "- Interpretation: The analysis of total sales distribution shows a clear concentration of sales in low values, suggesting that most transactions are of lower value. The 'Cigarettes' category leads in sales, followed by 'Drinks' and 'Candies,' indicating that these products, though with small individual transactions, generate significant revenue.\n",
    "\n",
    "- Conclusions:\n",
    "    - Focus on Key Categories: The high concentration of sales in the 'Cigarettes,' 'Drinks,' and 'Candies' categories suggests that focusing marketing strategies on these products could maximize revenue.\n",
    "    - Opportunity to Increase Average Ticket: Since most sales are of lower value, identifying strategies to increase the average ticket, such as volume promotions or bundles, could significantly boost total sales.\n",
    "\n",
    "### 4.2. Sales Trends Over Time\n",
    "- Interpretation: The temporal analysis of sales revealed considerable daily variability, with some significant peaks and drops, suggesting that external factors like promotions or special events could be strongly influencing sales.\n",
    "\n",
    "- Conclusions:\n",
    "    - Leveraging Demand Peaks: Future strategies should focus on capitalizing on high-demand days, possibly associated with special events or promotions, while investigating the reasons behind low sales days to optimize consistency in sales.\n",
    "    - Inventory and Promotion Planning: Adjusting inventory levels and promotion planning based on observed sales patterns can help minimize the impact of daily variability and improve operational efficiency.\n",
    "      \n",
    "### 4.3. Predictive Model Performance\n",
    "- Interpretation: The Random Forest model was selected as the best model for sales prediction, based on its superior performance across all evaluated metrics (MAE, MSE, and R2).\n",
    "\n",
    "- Conclusions:\n",
    "    - Confidence in Future Predictions: The Random Forest model is a reliable tool for predicting future sales, allowing the company to make more informed data-driven decisions.\n",
    "    - Ongoing Monitoring and Validation: Although the model shows robust performance, it is crucial to continue monitoring its performance and making adjustments as new data is collected to maintain its accuracy.\n",
    "\n",
    "### 4.4. Feature Importance\n",
    "- Interpretation: The feature importance analysis highlights Quantity and Unit Price as the most influential factors in sales prediction.\n",
    "\n",
    "- Conclusions:\n",
    "    - Focus on Quantity and Price Optimization: Sales strategies should focus on optimizing the quantity sold and the unit price, as these variables have a significant impact on sales predictions.\n",
    "    - Review of Secondary Strategies: The other categorical variables showed lesser influence, so strategies focusing on these should be reviewed to ensure they contribute value to sales.\n",
    "\n",
    "### 4.5. Residual Analysis\n",
    "- Interpretation: The residual analysis showed that the model does not have systematic errors, although some identified outliers could indicate special cases or data errors.\n",
    "\n",
    "- Conclusions:\n",
    "\n",
    "    - Outlier Investigation: A detailed review of detected outliers is recommended to determine if they represent opportunities for model improvement or if they are unique cases requiring a particular approach.\n",
    "    - Continuous Model Refinement: Investigating these outliers will help refine the model, further improving its accuracy and applicability.\n"
   ]
  },
  {
   "cell_type": "markdown",
   "id": "8069b2a3-9820-407d-995a-4dc64fddefbe",
   "metadata": {},
   "source": [
    "## 5. Final Conclusions\n",
    "### 5.1. Business Implications\n",
    "- Product Strategies: Since the 'Cigarettes,' 'Drinks,' and 'Candies' categories lead sales, focusing marketing strategies in these areas could maximize revenue.\n",
    "- Price and Quantity Optimization: Improving price management and increasing the quantity sold per transaction are key to enhancing overall business performance.\n",
    "- Demand Management: Identifying and understanding the factors influencing daily sales variations will optimize planning and promotions, reducing volatility and maximizing revenue opportunities.\n",
    "\n",
    "### 5.2. Suggested Actions\n",
    "- Marketing Focus: Develop campaigns specifically targeting the product categories that contribute most to sales, such as 'Cigarettes,' 'Drinks,' and 'Candies.'\n",
    "- Price Review: Consider a review and possible price adjustment based on insights gained about the correlation between Unit Price and Quantity sold.\n",
    "- Promotions and Offers: Implement strategic promotions during high-demand days identified to capitalize on sales peaks and mitigate low-sales days.\n",
    "- Inventory Management: Adjust inventory to align with observed sales trends, ensuring the availability of the most demanded products.\n",
    "\n",
    "### 5.3. Future Considerations\n",
    "- Exploration of New Categories: Investigate the possibility of introducing or expanding product categories that could increase sales in less-exploited segments.\n",
    "- Data Collection Improvements: Continue enhancing the quality and quantity of collected data for future analysis, allowing for further refinement of predictive models and business strategies.\n",
    "- Ongoing Model Evaluation: Continuously monitor the performance of the Random Forest model and other alternative models to ensure predictions remain accurate over time.\n",
    "\n",
    "### 5.4. Next Steps\n",
    "\n",
    "#### Model Implementation\n",
    "\n",
    "- Model Integration: Implement the Random Forest model in the production environment to generate real-time sales predictions and support strategic decision-making.\n",
    "- Staff Training: Train the sales and marketing team on the use of predictive tools so they can interpret the results and adjust strategies accordingly.\n",
    "\n",
    "#### Monitoring and Adjustments\n",
    "\n",
    "- Performance Tracking: Establish a continuous monitoring process for the model to evaluate its accuracy and adaptability to possible changes in sales patterns.\n",
    "- Periodic Adjustments: Make periodic adjustments to the model and business strategies based on the latest data, ensuring alignment with current market conditions and customer needs."
   ]
  },
  {
   "cell_type": "markdown",
   "id": "e5453fce-42d3-4f5c-9b72-0d090e077ab2",
   "metadata": {},
   "source": [
    "## 6. Closing\n",
    "### Final Reflection\n",
    "In summary, this comprehensive sales analysis has provided valuable insights that not only help understand the current business behavior but also offer a solid foundation for future planning. The distribution of total and category sales highlights the importance of key products such as 'Cigarettes,' 'Drinks,' and 'Candies,' and suggests that there is significant potential in developing strategies focused on increasing the average ticket. Additionally, sales trends over time reveal high variability, highlighting the need to adjust promotions and inventory management according to demand patterns. The superior performance of the Random Forest model reinforces confidence in the ability to predict future sales accurately, while the feature importance analysis underscores the importance of focusing on quantity and unit price for optimized sales performance.\n",
    "\n",
    "### Acknowledgements\n",
    "- Project Team: Thank you to everyone who contributed to this project for their dedication and professionalism.\n",
    "- Stakeholders: Special thanks to the key stakeholders for their support and valuable feedback throughout the process."
   ]
  }
 ],
 "metadata": {
  "kernelspec": {
   "display_name": "Python 3 (ipykernel)",
   "language": "python",
   "name": "python3"
  },
  "language_info": {
   "codemirror_mode": {
    "name": "ipython",
    "version": 3
   },
   "file_extension": ".py",
   "mimetype": "text/x-python",
   "name": "python",
   "nbconvert_exporter": "python",
   "pygments_lexer": "ipython3",
   "version": "3.11.7"
  }
 },
 "nbformat": 4,
 "nbformat_minor": 5
}
